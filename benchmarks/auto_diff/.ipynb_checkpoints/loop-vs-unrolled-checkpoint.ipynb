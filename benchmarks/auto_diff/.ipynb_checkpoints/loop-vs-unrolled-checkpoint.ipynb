{
 "cells": [
  {
   "cell_type": "code",
   "execution_count": null,
   "metadata": {},
   "outputs": [],
   "source": [
    "using DrWatson\n",
    "@quickactivate"
   ]
  },
  {
   "cell_type": "code",
   "execution_count": null,
   "metadata": {},
   "outputs": [],
   "source": [
    "using BenchmarkTools, StaticArrays\n",
    "import ReverseDiff, Tracker, Zygote\n",
    "const GRADS = (\n",
    "    \"ReverseDiff\" => ReverseDiff.gradient, \n",
    "    \"Tracker\" => Tracker.gradient, \n",
    "    \"Zygote\" => Zygote.gradient,\n",
    ")\n",
    "\n",
    ";"
   ]
  },
  {
   "cell_type": "code",
   "execution_count": null,
   "metadata": {},
   "outputs": [],
   "source": [
    "function logdensity(x)\n",
    "    res = 0\n",
    "    for i = 1:size(x, 1)\n",
    "        res += x[i]\n",
    "    end\n",
    "    return res\n",
    "end\n",
    "\n",
    "macro unroll_logdensity(n)\n",
    "    ex = :(function $(Symbol(\"logdensity_$n\"))(x) end)\n",
    "    body = ex.args[2]\n",
    "    push!(body.args, :(res = 0))\n",
    "    for i in 1:n\n",
    "        push!(body.args, :(res += x[$i]))\n",
    "    end\n",
    "    push!(body.args, :(return res))\n",
    "    ex\n",
    "end\n",
    "\n",
    "@macroexpand(@unroll_logdensity(20)) |> display\n",
    "\n",
    ";"
   ]
  },
  {
   "cell_type": "code",
   "execution_count": null,
   "metadata": {},
   "outputs": [],
   "source": [
    "function trybtime(f, x; verbose=true)\n",
    "    try\n",
    "        t = @belapsed $f($x)\n",
    "        verbose && println(\" --- takes $t seconds\")\n",
    "        return t\n",
    "    catch e\n",
    "        verbose && println(\" --- fails due to $e\")\n",
    "        return NaN\n",
    "    end\n",
    "end\n",
    "\n",
    "function benchmark(f, x0; verbose=true)\n",
    "    xs = [x0, SVector{length(x0), eltype(x0)}(x0)]\n",
    "    res = []\n",
    "    for x in xs\n",
    "        verbose && print(rpad(\"$f(x::$(typeof(x)))\", 55))\n",
    "        trybtime(f, x; verbose=verbose)\n",
    "        x isa SVector && continue\n",
    "        ts = []\n",
    "        for grad in GRADS\n",
    "            gradn, gradf = grad\n",
    "            verbose && print(\"- $(lpad(gradn, 12)).gradient\")\n",
    "            t = trybtime(x -> gradf(f, x), x; verbose=verbose)\n",
    "            push!(ts, t)\n",
    "        end\n",
    "        push!(res, ts)\n",
    "    end\n",
    "    return res\n",
    "end\n",
    "\n",
    ";"
   ]
  },
  {
   "cell_type": "code",
   "execution_count": null,
   "metadata": {},
   "outputs": [],
   "source": [
    "let x = rand(500)\n",
    "    benchmark(logdensity, x)\n",
    "    benchmark(@unroll_logdensity(500), x)\n",
    "end\n",
    "\n",
    ";"
   ]
  },
  {
   "cell_type": "code",
   "execution_count": null,
   "metadata": {},
   "outputs": [],
   "source": [
    "let x = rand(1_000)\n",
    "    benchmark(logdensity, x)\n",
    "    benchmark(@unroll_logdensity(1_000), x)\n",
    "end\n",
    "\n",
    ";"
   ]
  },
  {
   "cell_type": "code",
   "execution_count": null,
   "metadata": {},
   "outputs": [],
   "source": []
  }
 ],
 "metadata": {
  "kernelspec": {
   "display_name": "Julia 1.3.0",
   "language": "julia",
   "name": "julia-1.3"
  },
  "language_info": {
   "file_extension": ".jl",
   "mimetype": "application/julia",
   "name": "julia",
   "version": "1.3.0"
  }
 },
 "nbformat": 4,
 "nbformat_minor": 2
}
