{
 "cells": [
  {
   "cell_type": "code",
   "execution_count": 1,
   "metadata": {},
   "outputs": [],
   "source": [
    "using DrWatson\n",
    "@quickactivate"
   ]
  },
  {
   "cell_type": "code",
   "execution_count": 2,
   "metadata": {},
   "outputs": [],
   "source": [
    "using BenchmarkTools, StaticArrays\n",
    "import ReverseDiff, Tracker, Zygote\n",
    "const GRADS = (\n",
    "    \"ReverseDiff\" => ReverseDiff.gradient, \n",
    "    \"Tracker\" => Tracker.gradient, \n",
    "    \"Zygote\" => Zygote.gradient,\n",
    ")\n",
    "\n",
    ";"
   ]
  },
  {
   "cell_type": "code",
   "execution_count": 3,
   "metadata": {},
   "outputs": [
    {
     "data": {
      "text/plain": [
       ":(function Main.logdensity_20(var\"#10#x\")\n",
       "      #= In[3]:10 =#\n",
       "      var\"#9#res\" = 0\n",
       "      var\"#9#res\" += var\"#10#x\"[1]\n",
       "      var\"#9#res\" += var\"#10#x\"[2]\n",
       "      var\"#9#res\" += var\"#10#x\"[3]\n",
       "      var\"#9#res\" += var\"#10#x\"[4]\n",
       "      var\"#9#res\" += var\"#10#x\"[5]\n",
       "      var\"#9#res\" += var\"#10#x\"[6]\n",
       "      var\"#9#res\" += var\"#10#x\"[7]\n",
       "      var\"#9#res\" += var\"#10#x\"[8]\n",
       "      var\"#9#res\" += var\"#10#x\"[9]\n",
       "      var\"#9#res\" += var\"#10#x\"[10]\n",
       "      var\"#9#res\" += var\"#10#x\"[11]\n",
       "      var\"#9#res\" += var\"#10#x\"[12]\n",
       "      var\"#9#res\" += var\"#10#x\"[13]\n",
       "      var\"#9#res\" += var\"#10#x\"[14]\n",
       "      var\"#9#res\" += var\"#10#x\"[15]\n",
       "      var\"#9#res\" += var\"#10#x\"[16]\n",
       "      var\"#9#res\" += var\"#10#x\"[17]\n",
       "      var\"#9#res\" += var\"#10#x\"[18]\n",
       "      var\"#9#res\" += var\"#10#x\"[19]\n",
       "      var\"#9#res\" += var\"#10#x\"[20]\n",
       "      return var\"#9#res\"\n",
       "  end)"
      ]
     },
     "metadata": {},
     "output_type": "display_data"
    }
   ],
   "source": [
    "function logdensity(x)\n",
    "    res = 0\n",
    "    for i = 1:size(x, 1)\n",
    "        res += x[i]\n",
    "    end\n",
    "    return res\n",
    "end\n",
    "\n",
    "macro unroll_logdensity(n)\n",
    "    ex = :(function $(Symbol(\"logdensity_$n\"))(x) end)\n",
    "    body = ex.args[2]\n",
    "    push!(body.args, :(res = 0))\n",
    "    for i in 1:n\n",
    "        push!(body.args, :(res += x[$i]))\n",
    "    end\n",
    "    push!(body.args, :(return res))\n",
    "    ex\n",
    "end\n",
    "\n",
    "@macroexpand(@unroll_logdensity(20)) |> display\n",
    "\n",
    ";"
   ]
  },
  {
   "cell_type": "code",
   "execution_count": 4,
   "metadata": {},
   "outputs": [],
   "source": [
    "function trybtime(f, x; verbose=true)\n",
    "    try\n",
    "        t = @belapsed $f($x)\n",
    "        verbose && println(\" --- takes $t seconds\")\n",
    "        return t\n",
    "    catch e\n",
    "        verbose && println(\" --- fails due to $e\")\n",
    "        return NaN\n",
    "    end\n",
    "end\n",
    "\n",
    "function benchmark(f, x0; verbose=true)\n",
    "    xs = [x0, SVector{length(x0), eltype(x0)}(x0)]\n",
    "    res = []\n",
    "    for x in xs\n",
    "        verbose && print(rpad(\"$f(x::$(typeof(x)))\", 55))\n",
    "        trybtime(f, x; verbose=verbose)\n",
    "        x isa SVector && continue\n",
    "        ts = []\n",
    "        for grad in GRADS\n",
    "            gradn, gradf = grad\n",
    "            verbose && print(\"- $(lpad(gradn, 12)).gradient\")\n",
    "            t = trybtime(x -> gradf(f, x), x; verbose=verbose)\n",
    "            push!(ts, t)\n",
    "        end\n",
    "        push!(res, ts)\n",
    "    end\n",
    "    return res\n",
    "end\n",
    "\n",
    ";"
   ]
  },
  {
   "cell_type": "code",
   "execution_count": 5,
   "metadata": {},
   "outputs": [
    {
     "name": "stdout",
     "output_type": "stream",
     "text": [
      "logdensity(x::Array{Float64,1})                         --- takes 5.889401197604791e-7 seconds\n",
      "-  ReverseDiff.gradient --- takes 0.000106365 seconds\n",
      "-      Tracker.gradient --- takes 0.000342397 seconds\n",
      "-       Zygote.gradient --- takes 0.001322017 seconds\n",
      "logdensity(x::SArray{Tuple{500},Float64,1,500})         --- takes 4.517817258883249e-7 seconds\n",
      "logdensity_500(x::Array{Float64,1})                     --- takes 5.177552083333334e-7 seconds\n",
      "-  ReverseDiff.gradient --- takes 0.000117554 seconds\n",
      "-      Tracker.gradient --- takes 0.000376928 seconds\n",
      "-       Zygote.gradient --- takes 0.003709555 seconds\n",
      "logdensity_500(x::SArray{Tuple{500},Float64,1,500})     --- takes 3.6e-11 seconds\n"
     ]
    }
   ],
   "source": [
    "let x = rand(500)\n",
    "    benchmark(logdensity, x)\n",
    "    benchmark(@unroll_logdensity(500), x)\n",
    "end\n",
    "\n",
    ";"
   ]
  },
  {
   "cell_type": "code",
   "execution_count": 6,
   "metadata": {},
   "outputs": [
    {
     "name": "stdout",
     "output_type": "stream",
     "text": [
      "logdensity(x::Array{Float64,1})                         --- takes 1.0970999999999998e-6 seconds\n",
      "-  ReverseDiff.gradient --- takes 0.000214341 seconds\n",
      "-      Tracker.gradient --- takes 0.001070315 seconds\n",
      "-       Zygote.gradient --- takes 0.003905595 seconds\n",
      "logdensity(x::SArray{Tuple{1000},Float64,1,1000})       --- takes 8.815294117647058e-7 seconds\n",
      "logdensity_1000(x::Array{Float64,1})                    --- takes 1.025e-6 seconds\n",
      "-  ReverseDiff.gradient --- takes 0.000250316 seconds\n",
      "-      Tracker.gradient --- takes 0.001164586 seconds\n",
      "-       Zygote.gradient --- takes 0.017711017 seconds\n",
      "logdensity_1000(x::SArray{Tuple{1000},Float64,1,1000})  --- takes 3.6999999999999995e-11 seconds\n"
     ]
    }
   ],
   "source": [
    "let x = rand(1_000)\n",
    "    benchmark(logdensity, x)\n",
    "    benchmark(@unroll_logdensity(1_000), x)\n",
    "end\n",
    "\n",
    ";"
   ]
  },
  {
   "cell_type": "code",
   "execution_count": null,
   "metadata": {},
   "outputs": [],
   "source": []
  }
 ],
 "metadata": {
  "kernelspec": {
   "display_name": "Julia 1.3.0",
   "language": "julia",
   "name": "julia-1.3"
  },
  "language_info": {
   "file_extension": ".jl",
   "mimetype": "application/julia",
   "name": "julia",
   "version": "1.3.0"
  }
 },
 "nbformat": 4,
 "nbformat_minor": 2
}
