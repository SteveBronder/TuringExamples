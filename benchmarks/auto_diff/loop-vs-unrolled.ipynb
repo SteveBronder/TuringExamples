{
 "cells": [
  {
   "cell_type": "code",
   "execution_count": 1,
   "metadata": {},
   "outputs": [],
   "source": [
    "using DrWatson\n",
    "@quickactivate"
   ]
  },
  {
   "cell_type": "code",
   "execution_count": 2,
   "metadata": {},
   "outputs": [],
   "source": [
    "using BenchmarkTools, StaticArrays, Distributions\n",
    "import ReverseDiff, Tracker, Zygote\n",
    "const GRADS = (\n",
    "    :ReverseDiff => ReverseDiff.gradient, \n",
    "    :Tracker => Tracker.gradient, \n",
    "    :Zygote => Zygote.gradient,\n",
    ")\n",
    "\n",
    ";"
   ]
  },
  {
   "cell_type": "code",
   "execution_count": 3,
   "metadata": {},
   "outputs": [],
   "source": [
    "function trybtime(f, x; verbose=true)\n",
    "    try\n",
    "        t = @belapsed $f($x)\n",
    "        verbose && println(\" --- takes $t seconds\")\n",
    "        return t\n",
    "    catch e\n",
    "        verbose && println(\" --- fails due to $e\")\n",
    "        return NaN\n",
    "    end\n",
    "end\n",
    "\n",
    "function benchmark(f, x0; verbose=true)\n",
    "    xs = [x0, SVector{length(x0), eltype(x0)}(x0)]\n",
    "    res = []\n",
    "    for x in xs\n",
    "        verbose && print(rpad(\"$f(x::$(typeof(x)))\", 55))\n",
    "        trybtime(f, x; verbose=verbose)\n",
    "        ts = []\n",
    "        for grad in GRADS\n",
    "            gradn, gradf = grad\n",
    "            verbose && print(\"- $(lpad(gradn, 11)).gradient\")\n",
    "            if x isa SArray && gradn == :Zygote\n",
    "                verbose && println(\" --- skips for SArray because it never finishs\")\n",
    "                continue\n",
    "            end\n",
    "            t = trybtime(x -> gradf(f, x), x; verbose=verbose)\n",
    "            push!(ts, t)\n",
    "        end\n",
    "        push!(res, ts)\n",
    "    end\n",
    "    return res\n",
    "end\n",
    "\n",
    ";"
   ]
  },
  {
   "cell_type": "markdown",
   "metadata": {},
   "source": [
    "## Simple loop"
   ]
  },
  {
   "cell_type": "code",
   "execution_count": 4,
   "metadata": {},
   "outputs": [
    {
     "data": {
      "text/plain": [
       ":(function Main.logdensity_10(var\"#101#x\")\n",
       "      #= In[4]:10 =#\n",
       "      var\"#100#res\" = 0\n",
       "      var\"#100#res\" += var\"#101#x\"[1]\n",
       "      var\"#100#res\" += var\"#101#x\"[2]\n",
       "      var\"#100#res\" += var\"#101#x\"[3]\n",
       "      var\"#100#res\" += var\"#101#x\"[4]\n",
       "      var\"#100#res\" += var\"#101#x\"[5]\n",
       "      var\"#100#res\" += var\"#101#x\"[6]\n",
       "      var\"#100#res\" += var\"#101#x\"[7]\n",
       "      var\"#100#res\" += var\"#101#x\"[8]\n",
       "      var\"#100#res\" += var\"#101#x\"[9]\n",
       "      var\"#100#res\" += var\"#101#x\"[10]\n",
       "      return var\"#100#res\"\n",
       "  end)"
      ]
     },
     "metadata": {},
     "output_type": "display_data"
    }
   ],
   "source": [
    "function logdensity(x)\n",
    "    res = 0\n",
    "    for i = 1:size(x, 1)\n",
    "        res += x[i]\n",
    "    end\n",
    "    return res\n",
    "end\n",
    "\n",
    "macro unroll_logdensity(n)\n",
    "    ex = :(function $(Symbol(\"logdensity_$n\"))(x) end)\n",
    "    body = ex.args[2]\n",
    "    push!(body.args, :(res = 0))\n",
    "    for i in 1:n\n",
    "        push!(body.args, :(res += x[$i]))\n",
    "    end\n",
    "    push!(body.args, :(return res))\n",
    "    return ex\n",
    "end\n",
    "\n",
    "@macroexpand(@unroll_logdensity(10)) |> display\n",
    "\n",
    ";"
   ]
  },
  {
   "cell_type": "code",
   "execution_count": 5,
   "metadata": {},
   "outputs": [
    {
     "name": "stdout",
     "output_type": "stream",
     "text": [
      "logdensity(x::Array{Float64,1})                         --- takes 5.635956284153006e-7 seconds\n",
      "- ReverseDiff.gradient --- takes 0.000103103 seconds\n",
      "-     Tracker.gradient --- takes 0.000291449 seconds\n",
      "-      Zygote.gradient --- takes 0.001094527 seconds\n",
      "logdensity(x::SArray{Tuple{500},Float64,1,500})         --- takes 4.541122448979592e-7 seconds\n",
      "- ReverseDiff.gradient --- takes 0.000112217 seconds\n",
      "-     Tracker.gradient --- fails due to ErrorException(\"setindex!(::SArray{Tuple{500},Float64,1,500}, value, ::Int) is not defined.\")\n",
      "-      Zygote.gradient --- skips for SArray because it never finishs\n",
      "logdensity_500(x::Array{Float64,1})                     --- takes 5.295185185185184e-7 seconds\n",
      "- ReverseDiff.gradient --- takes 0.000128364 seconds\n",
      "-     Tracker.gradient --- takes 0.00031313 seconds\n",
      "-      Zygote.gradient --- takes 0.004269467 seconds\n",
      "logdensity_500(x::SArray{Tuple{500},Float64,1,500})     --- takes 3.6e-11 seconds\n",
      "- ReverseDiff.gradient --- takes 0.000132293 seconds\n",
      "-     Tracker.gradient --- fails due to ErrorException(\"setindex!(::SArray{Tuple{500},Float64,1,500}, value, ::Int) is not defined.\")\n",
      "-      Zygote.gradient --- skips for SArray because it never finishs\n"
     ]
    }
   ],
   "source": [
    "let x = rand(500), logdensity_unroll = @unroll_logdensity(500)\n",
    "    benchmark(logdensity, x)\n",
    "    benchmark(logdensity_unroll, x)\n",
    "end\n",
    "\n",
    ";"
   ]
  },
  {
   "cell_type": "code",
   "execution_count": 6,
   "metadata": {},
   "outputs": [
    {
     "name": "stdout",
     "output_type": "stream",
     "text": [
      "logdensity(x::Array{Float64,1})                         --- takes 1.383e-6 seconds\n",
      "- ReverseDiff.gradient --- takes 0.000221063 seconds\n",
      "-     Tracker.gradient --- takes 0.001030266 seconds\n",
      "-      Zygote.gradient --- takes 0.003765213 seconds\n",
      "logdensity(x::SArray{Tuple{1000},Float64,1,1000})       --- takes 1.0686153846153846e-6 seconds\n",
      "- ReverseDiff.gradient --- takes 0.000218738 seconds\n",
      "-     Tracker.gradient --- fails due to ErrorException(\"setindex!(::SArray{Tuple{1000},Float64,1,1000}, value, ::Int) is not defined.\")\n",
      "-      Zygote.gradient --- skips for SArray because it never finishs\n",
      "logdensity_1000(x::Array{Float64,1})                    --- takes 1.0477000000000002e-6 seconds\n",
      "- ReverseDiff.gradient --- takes 0.000274715 seconds\n",
      "-     Tracker.gradient --- takes 0.000998024 seconds\n",
      "-      Zygote.gradient --- takes 0.018179059 seconds\n",
      "logdensity_1000(x::SArray{Tuple{1000},Float64,1,1000})  --- takes 2.5e-11 seconds\n",
      "- ReverseDiff.gradient --- takes 0.000262579 seconds\n",
      "-     Tracker.gradient --- fails due to ErrorException(\"setindex!(::SArray{Tuple{1000},Float64,1,1000}, value, ::Int) is not defined.\")\n",
      "-      Zygote.gradient --- skips for SArray because it never finishs\n"
     ]
    }
   ],
   "source": [
    "let x = rand(1_000), logdensity_unroll = @unroll_logdensity(1_000)\n",
    "    benchmark(logdensity, x)\n",
    "    benchmark(logdensity_unroll, x)\n",
    "end\n",
    "\n",
    ";"
   ]
  },
  {
   "cell_type": "markdown",
   "metadata": {},
   "source": [
    "## Stochastic volatility"
   ]
  },
  {
   "cell_type": "code",
   "execution_count": 7,
   "metadata": {},
   "outputs": [
    {
     "data": {
      "text/plain": [
       ":(function Main.get_logdensity_sv_5(var\"#128#y\")\n",
       "      #= In[7]:73 =#\n",
       "      function var\"#127#logdensity_sv_5\"(var\"#135#theta\")\n",
       "          #= In[7]:54 =#\n",
       "          var\"#129#res\" = 0\n",
       "          var\"#130#T\" = Main.length(var\"#128#y\")\n",
       "          var\"#131#ϕ\" = var\"#135#theta\"[1]\n",
       "          var\"#129#res\" += Main.logpdf(Main.Uniform(-1, 1), var\"#131#ϕ\")\n",
       "          var\"#132#σ\" = var\"#135#theta\"[2]\n",
       "          var\"#129#res\" += Main.logpdf(Main.truncated(Main.Cauchy(0, 5), 0, Main.Inf), var\"#132#σ\")\n",
       "          var\"#133#μ\" = var\"#135#theta\"[3]\n",
       "          var\"#129#res\" += Main.logpdf(Main.Cauchy(0, 10), var\"#133#μ\")\n",
       "          var\"#134#h\" = Main.Vector{Main.eltype(var\"#135#theta\")}(Main.undef, 5)\n",
       "          var\"#134#h\"[1] = var\"#135#theta\"[4]\n",
       "          var\"#129#res\" += Main.logpdf(Main.Normal(var\"#133#μ\", var\"#132#σ\" / Main.sqrt(1 - var\"#131#ϕ\" ^ 2)), var\"#134#h\"[1])\n",
       "          var\"#134#h\"[2] = var\"#135#theta\"[2 + 3]\n",
       "          var\"#129#res\" += Main.logpdf(Main.Normal(var\"#133#μ\" + var\"#131#ϕ\" * (var\"#134#h\"[2 - 1] - var\"#133#μ\"), var\"#132#σ\"), var\"#134#h\"[2])\n",
       "          var\"#134#h\"[3] = var\"#135#theta\"[3 + 3]\n",
       "          var\"#129#res\" += Main.logpdf(Main.Normal(var\"#133#μ\" + var\"#131#ϕ\" * (var\"#134#h\"[3 - 1] - var\"#133#μ\"), var\"#132#σ\"), var\"#134#h\"[3])\n",
       "          var\"#134#h\"[4] = var\"#135#theta\"[4 + 3]\n",
       "          var\"#129#res\" += Main.logpdf(Main.Normal(var\"#133#μ\" + var\"#131#ϕ\" * (var\"#134#h\"[4 - 1] - var\"#133#μ\"), var\"#132#σ\"), var\"#134#h\"[4])\n",
       "          var\"#134#h\"[5] = var\"#135#theta\"[5 + 3]\n",
       "          var\"#129#res\" += Main.logpdf(Main.Normal(var\"#133#μ\" + var\"#131#ϕ\" * (var\"#134#h\"[5 - 1] - var\"#133#μ\"), var\"#132#σ\"), var\"#134#h\"[5])\n",
       "          var\"#129#res\" += Main.sum(Main.logpdf.(Main.Normal.(0, Main.exp.(var\"#134#h\" / 2)), var\"#128#y\"))\n",
       "          return var\"#129#res\"\n",
       "      end\n",
       "      #= In[7]:73 =#\n",
       "      return var\"#127#logdensity_sv_5\"\n",
       "  end)"
      ]
     },
     "metadata": {},
     "output_type": "display_data"
    }
   ],
   "source": [
    "# @model sto_volatility(y, ::Type{Tv}=Vector{Float64}) where {Tv} = begin\n",
    "#     T = length(y)\n",
    "#     ϕ ~ Uniform(-1, 1)\n",
    "#     σ ~ truncated(Cauchy(0, 5), 0, Inf)\n",
    "#     μ ~ Cauchy(0, 10)\n",
    "#     h = Tv(undef, T)\n",
    "#     h[1] ~ Normal(μ, σ / sqrt(1 - ϕ^2))\n",
    "#     for t in 2:T\n",
    "#         h[t] ~ Normal(μ + ϕ * (h[t-1] - μ), σ)\n",
    "#     end\n",
    "#     y ~ ArrayDist(Normal.(0, exp.(h / 2)))\n",
    "# end\n",
    "\n",
    "function rand_sv(T)\n",
    "    ϕ = rand(Uniform(-1, 1))\n",
    "    σ = rand(truncated(Cauchy(0, 5), 0, Inf))\n",
    "    μ = rand(Cauchy(0, 10))\n",
    "    h = zeros(T)\n",
    "    h[1] = rand(Normal(μ, σ / sqrt(1 - ϕ^2)))\n",
    "    for t in 2:T\n",
    "        h[t] = rand(Normal(μ + ϕ * (h[t-1] - μ), σ))\n",
    "    end\n",
    "    y = rand.(Normal.(0, exp.(h / 2)))\n",
    "    theta = [ϕ, σ, μ, h...]\n",
    "    return (theta=theta, y=y)\n",
    "end\n",
    "\n",
    "function get_logdensity_sv(y)\n",
    "    function logdensity_sv(theta)\n",
    "        res = 0\n",
    "        T = length(y)\n",
    "        ϕ = theta[1]\n",
    "        res += logpdf(Uniform(-1, 1), ϕ)\n",
    "        σ = theta[2]\n",
    "        res += logpdf(truncated(Cauchy(0, 5), 0, Inf), σ)\n",
    "        μ = theta[3]\n",
    "        res += logpdf(Cauchy(0, 10), μ)\n",
    "        h = Vector{eltype(theta)}(undef, T)\n",
    "        h[1] = theta[4]\n",
    "        res += logpdf(Normal(μ, σ / sqrt(1 - ϕ^2)), h[1])\n",
    "        for t in 2:T\n",
    "            h[t] = theta[t+3]\n",
    "            res += logpdf(Normal(μ + ϕ * (h[t-1] - μ), σ), h[t])\n",
    "        end\n",
    "        res += sum(logpdf.(Normal.(0, exp.(h / 2)), y))\n",
    "        return res\n",
    "    end\n",
    "    return logdensity_sv\n",
    "end\n",
    "\n",
    "macro get_logdensity_unroll_sv(T)\n",
    "    fn = Symbol(\"logdensity_sv_$T\")\n",
    "    getfn = Symbol(\"get_logdensity_sv_$T\")\n",
    "    ex = :(function $fn(theta) end)\n",
    "    body = ex.args[2]\n",
    "    push!(body.args, :(res = 0))\n",
    "    push!(body.args, :(T = length(y)))\n",
    "    push!(body.args, :(ϕ = theta[1]))\n",
    "    push!(body.args, :(res += logpdf(Uniform(-1, 1), ϕ)))\n",
    "    push!(body.args, :(σ = theta[2]))\n",
    "    push!(body.args, :(res += logpdf(truncated(Cauchy(0, 5), 0, Inf), σ)))\n",
    "    push!(body.args, :(μ = theta[3]))\n",
    "    push!(body.args, :(res += logpdf(Cauchy(0, 10), μ)))\n",
    "    push!(body.args, :(h = Vector{eltype(theta)}(undef, $T)))\n",
    "    push!(body.args, :(h[1] = theta[4]))\n",
    "    push!(body.args, :(res += logpdf(Normal(μ, σ / sqrt(1 - ϕ^2)), h[1])))\n",
    "    for t in 2:T\n",
    "        push!(body.args, :(h[$t] = theta[$t+3]))\n",
    "        push!(body.args, :(res += logpdf(Normal(μ + ϕ * (h[$t-1] - μ), σ), h[$t])))\n",
    "    end\n",
    "    push!(body.args, :(res += sum(logpdf.(Normal.(0, exp.(h / 2)), y))))\n",
    "    push!(body.args, :(return res))\n",
    "    return :(function $getfn(y) $ex; return $fn end)\n",
    "end\n",
    "\n",
    "@macroexpand(@get_logdensity_unroll_sv(5)) |> display\n",
    "\n",
    ";"
   ]
  },
  {
   "cell_type": "code",
   "execution_count": 8,
   "metadata": {},
   "outputs": [
    {
     "name": "stdout",
     "output_type": "stream",
     "text": [
      "logdensity_sv(x::Array{Float64,1})                      --- takes 1.8761e-6 seconds\n",
      "- ReverseDiff.gradient --- takes 0.000254523 seconds\n",
      "-     Tracker.gradient --- takes 0.000194237 seconds\n",
      "-      Zygote.gradient --- fails due to MethodError(Irrational{:log2π}, (1,), 0x00000000000069ee)\n",
      "logdensity_sv(x::SArray{Tuple{53},Float64,1,53})        --- takes 1.9711e-6 seconds\n",
      "- ReverseDiff.gradient --- takes 0.000250608 seconds\n",
      "-     Tracker.gradient --- fails due to ErrorException(\"setindex!(::SArray{Tuple{53},Float64,1,53}, value, ::Int) is not defined.\")\n",
      "-      Zygote.gradient --- skips for SArray because it never finishs\n",
      "#136#logdensity_sv_50(x::Array{Float64,1})              --- takes 1.9462e-6 seconds\n",
      "- ReverseDiff.gradient --- takes 0.000263125 seconds\n",
      "-     Tracker.gradient --- takes 0.00019578 seconds\n",
      "-      Zygote.gradient --- fails due to MethodError(Irrational{:log2π}, (1,), 0x0000000000006a1f)\n",
      "#136#logdensity_sv_50(x::SArray{Tuple{53},Float64,1,53}) --- takes 1.8994000000000002e-6 seconds\n",
      "- ReverseDiff.gradient --- takes 0.000262154 seconds\n",
      "-     Tracker.gradient --- fails due to ErrorException(\"setindex!(::SArray{Tuple{53},Float64,1,53}, value, ::Int) is not defined.\")\n",
      "-      Zygote.gradient --- skips for SArray because it never finishs\n"
     ]
    }
   ],
   "source": [
    "let res = rand_sv(50), get_logdensity_unroll_sv = @get_logdensity_unroll_sv(50)\n",
    "    logdensity_sv = get_logdensity_sv(res.y)\n",
    "    logdensity_sv_unroll = get_logdensity_unroll_sv(res.y)\n",
    "    \n",
    "    benchmark(logdensity_sv, res.theta)\n",
    "    benchmark(logdensity_sv_unroll, res.theta)\n",
    "end\n",
    "\n",
    ";"
   ]
  },
  {
   "cell_type": "code",
   "execution_count": 9,
   "metadata": {},
   "outputs": [
    {
     "name": "stdout",
     "output_type": "stream",
     "text": [
      "logdensity_sv(x::Array{Float64,1})                      --- takes 1.7029e-5 seconds\n",
      "- ReverseDiff.gradient --- takes 0.002507677 seconds\n",
      "-     Tracker.gradient --- takes 0.002374453 seconds\n",
      "-      Zygote.gradient --- fails due to MethodError(Irrational{:log2π}, (1,), 0x0000000000006a52)\n",
      "logdensity_sv(x::SArray{Tuple{503},Float64,1,503})      --- takes 1.7351e-5 seconds\n",
      "- ReverseDiff.gradient --- takes 0.00247022 seconds\n",
      "-     Tracker.gradient --- fails due to ErrorException(\"setindex!(::SArray{Tuple{503},Float64,1,503}, value, ::Int) is not defined.\")\n",
      "-      Zygote.gradient --- skips for SArray because it never finishs\n",
      "#168#logdensity_sv_500(x::Array{Float64,1})             --- takes 1.88e-5 seconds\n",
      "- ReverseDiff.gradient --- takes 0.002772974 seconds\n",
      "-     Tracker.gradient --- takes 0.002312652 seconds\n",
      "-      Zygote.gradient --- fails due to MethodError(Irrational{:log2π}, (1,), 0x0000000000006a83)\n",
      "#168#logdensity_sv_500(x::SArray{Tuple{503},Float64,1,503}) --- takes 1.696e-5 seconds\n",
      "- ReverseDiff.gradient --- takes 0.002529505 seconds\n",
      "-     Tracker.gradient --- fails due to ErrorException(\"setindex!(::SArray{Tuple{503},Float64,1,503}, value, ::Int) is not defined.\")\n",
      "-      Zygote.gradient --- skips for SArray because it never finishs\n"
     ]
    }
   ],
   "source": [
    "let res = rand_sv(500), get_logdensity_unroll_sv = @get_logdensity_unroll_sv(500)\n",
    "    logdensity_sv = get_logdensity_sv(res.y)\n",
    "    logdensity_sv_unroll = get_logdensity_unroll_sv(res.y)\n",
    "    \n",
    "    benchmark(logdensity_sv, res.theta)\n",
    "    benchmark(logdensity_sv_unroll, res.theta)\n",
    "end\n",
    "\n",
    ";"
   ]
  },
  {
   "cell_type": "code",
   "execution_count": null,
   "metadata": {},
   "outputs": [],
   "source": []
  }
 ],
 "metadata": {
  "kernelspec": {
   "display_name": "Julia 1.3.0",
   "language": "julia",
   "name": "julia-1.3"
  },
  "language_info": {
   "file_extension": ".jl",
   "mimetype": "application/julia",
   "name": "julia",
   "version": "1.3.0"
  }
 },
 "nbformat": 4,
 "nbformat_minor": 2
}
